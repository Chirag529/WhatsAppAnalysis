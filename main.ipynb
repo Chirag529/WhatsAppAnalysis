{
 "cells": [
  {
   "cell_type": "markdown",
   "metadata": {},
   "source": [
    "\n",
    "# WhatsApp Chat Analysis\n",
    "\n",
    "## Introduction\n",
    "\n",
    "In today's digital age, messaging platforms like WhatsApp have revolutionized the way we communicate. WhatsApp groups, in particular, serve as hubs for conversations among friends, family, and colleagues, creating a treasure trove of textual data. This project is dedicated to the exploration and analysis of WhatsApp chat data.\n",
    "\n",
    "Chat data analysis encompasses various aspects, including understanding the dynamics of group interactions, identifying popular topics, and gaining insights into communication patterns. Our project dives into this realm by focusing on WhatsApp chat conversations, with the aim of uncovering valuable insights, such as:\n",
    "\n",
    "-   Understanding the trends and topics that dominate WhatsApp group conversations.\n",
    "-   Identifying patterns and key events within the chat data.\n",
    "-   Visualizing chat activity over time.\n",
    "-   Analyzing the frequency of messages, media sharing, and more.\n",
    "\n",
    "To achieve these objectives, we will leverage Python, along with data manipulation libraries and techniques. Additionally, we will use data visualization tools to present our findings clearly and effectively.\n",
    "\n",
    "### Project Goals\n",
    "\n",
    "1.  **Data Collection**: Extract and preprocess WhatsApp chat data, ensuring it's ready for analysis.\n",
    "    \n",
    "2.  **Chat Analysis**: Perform comprehensive analysis, including message frequency, user interactions, and content trends.\n",
    "    \n",
    "3.  **Visualization**: Create informative visualizations to represent chat activity, trends, and patterns effectively.\n",
    "    \n",
    "4.  **Insight Generation**: Draw meaningful insights from the chat data analysis results and provide actionable recommendations or conclusions based on these insights.\n",
    "    \n",
    "5.  **Pythonic Code**: Throughout the project, we will follow Python best practices and coding guidelines (PEP-8) to ensure clean, optimized, and maintainable code."
   ]
  },
  {
   "cell_type": "markdown",
   "metadata": {},
   "source": [
    "\n",
    "**Before starting with the task of WhatsApp Chat analysis with Python**, you need to extract your WhatsApp data from your smartphone, which is a straightforward process. Follow these steps to export your WhatsApp chats:\n",
    "\n",
    "1.  If you are using an iPhone:\n",
    "    \n",
    "    -   Open the chat with the person or group you want to export.\n",
    "    -   Tap on the Contact Name or the Group Name at the top of the chat.\n",
    "    -   Scroll to the bottom and tap on \"Export Chat.\"\n",
    "2.  If you are using an Android smartphone:\n",
    "    \n",
    "    -   Open the chat with the person or group you want to export.\n",
    "    -   Tap on the three dots (menu) located at the top right corner of the chat.\n",
    "    -   Select \"More\" or \"Options.\"\n",
    "    -   Tap on \"Export Chat.\"\n",
    "3.  Regardless of your smartphone type, you'll be prompted to choose whether you want to export the chat with or without media (images, videos, etc.). For simplicity in your analysis, you can choose \"without media.\"\n",
    "    \n",
    "4.  After making your selection, you'll have the option to email this chat to yourself. Enter your email address and send the chat.\n",
    "    \n",
    "5.  Access your email from your computer, open the email containing the exported chat, and download it to your system.\n",
    "    \n",
    "\n",
    "Now that you have successfully exported your WhatsApp chat, you can proceed with WhatsApp chat analysis using Python. In the following sections, we will guide you through the steps of analyzing WhatsApp chat data with Python."
   ]
  },
  {
   "cell_type": "markdown",
   "metadata": {},
   "source": [
    "Let's Start"
   ]
  },
  {
   "cell_type": "markdown",
   "metadata": {},
   "source": [
    "#### Import all necessary libraries"
   ]
  },
  {
   "cell_type": "code",
   "execution_count": 2,
   "metadata": {},
   "outputs": [],
   "source": [
    "# Data manipulation\n",
    "import pandas as pd\n",
    "\n",
    "# Data visualization\n",
    "import matplotlib.pyplot as plt\n",
    "\n",
    "# Data visualization (based on matplotlib)\n",
    "import seaborn as sns\n",
    "\n",
    "# For regular expressions\n",
    "import regex\n",
    "\n",
    "# Word cloud\n",
    "from wordcloud import WordCloud, STOPWORDS, ImageColorGenerator\n",
    "\n",
    "# For emoji support\n",
    "import emoji\n",
    "\n",
    "# For counting most common words in a list of strings\n",
    "from collections import Counter\n",
    "\n",
    "# Show every column in dataframe\n",
    "pd.set_option(\"display.max_columns\", None)"
   ]
  },
  {
   "cell_type": "code",
   "execution_count": 3,
   "metadata": {},
   "outputs": [
    {
     "data": {
      "text/html": [
       "<div>\n",
       "<style scoped>\n",
       "    .dataframe tbody tr th:only-of-type {\n",
       "        vertical-align: middle;\n",
       "    }\n",
       "\n",
       "    .dataframe tbody tr th {\n",
       "        vertical-align: top;\n",
       "    }\n",
       "\n",
       "    .dataframe thead th {\n",
       "        text-align: right;\n",
       "    }\n",
       "</style>\n",
       "<table border=\"1\" class=\"dataframe\">\n",
       "  <thead>\n",
       "    <tr style=\"text-align: right;\">\n",
       "      <th></th>\n",
       "      <th>time</th>\n",
       "      <th>sender name</th>\n",
       "      <th>sender message</th>\n",
       "      <th>Column3</th>\n",
       "      <th>Column4</th>\n",
       "    </tr>\n",
       "    <tr>\n",
       "      <th>date</th>\n",
       "      <th></th>\n",
       "      <th></th>\n",
       "      <th></th>\n",
       "      <th></th>\n",
       "      <th></th>\n",
       "    </tr>\n",
       "  </thead>\n",
       "  <tbody>\n",
       "    <tr>\n",
       "      <th>2022-09-29</th>\n",
       "      <td>7:04:00 PM</td>\n",
       "      <td>Manish Accenture created group Accenture 22 J...</td>\n",
       "      <td>NaN</td>\n",
       "      <td>NaN</td>\n",
       "      <td>NaN</td>\n",
       "    </tr>\n",
       "    <tr>\n",
       "      <th>2022-09-29</th>\n",
       "      <td>7:08:00 PM</td>\n",
       "      <td>You joined using this group's invite link</td>\n",
       "      <td>NaN</td>\n",
       "      <td>NaN</td>\n",
       "      <td>NaN</td>\n",
       "    </tr>\n",
       "    <tr>\n",
       "      <th>2022-09-29</th>\n",
       "      <td>7:08:00 PM</td>\n",
       "      <td>Manish Accenture</td>\n",
       "      <td>Aapki 19sept ki joining the ?</td>\n",
       "      <td>NaN</td>\n",
       "      <td>NaN</td>\n",
       "    </tr>\n",
       "    <tr>\n",
       "      <th>2022-09-29</th>\n",
       "      <td>7:08:00 PM</td>\n",
       "      <td>Harshit Accenture joined using this group's i...</td>\n",
       "      <td>NaN</td>\n",
       "      <td>NaN</td>\n",
       "      <td>NaN</td>\n",
       "    </tr>\n",
       "    <tr>\n",
       "      <th>2022-09-29</th>\n",
       "      <td>7:09:00 PM</td>\n",
       "      <td>Chiraggg</td>\n",
       "      <td>Kiski?</td>\n",
       "      <td>NaN</td>\n",
       "      <td>NaN</td>\n",
       "    </tr>\n",
       "  </tbody>\n",
       "</table>\n",
       "</div>"
      ],
      "text/plain": [
       "                  time                                        sender name  \\\n",
       "date                                                                        \n",
       "2022-09-29  7:04:00 PM   Manish Accenture created group Accenture 22 J...   \n",
       "2022-09-29  7:08:00 PM          You joined using this group's invite link   \n",
       "2022-09-29  7:08:00 PM                                   Manish Accenture   \n",
       "2022-09-29  7:08:00 PM   Harshit Accenture joined using this group's i...   \n",
       "2022-09-29  7:09:00 PM                                           Chiraggg   \n",
       "\n",
       "                            sender message Column3 Column4  \n",
       "date                                                        \n",
       "2022-09-29                             NaN     NaN     NaN  \n",
       "2022-09-29                             NaN     NaN     NaN  \n",
       "2022-09-29   Aapki 19sept ki joining the ?     NaN     NaN  \n",
       "2022-09-29                             NaN     NaN     NaN  \n",
       "2022-09-29                          Kiski?     NaN     NaN  "
      ]
     },
     "execution_count": 3,
     "metadata": {},
     "output_type": "execute_result"
    }
   ],
   "source": [
    "# Define the file path to your WhatsApp chat Excel file\n",
    "chat_excel_file_path = \"../Sentiment_Analysis/dataset/1_Dec_Chat.xlsx\"\n",
    "\n",
    "# Read the WhatsApp chat data from the Excel file into a DataFrame\n",
    "# index_col=0 means that the first column is the index column\n",
    "chat_data = pd.read_excel(chat_excel_file_path, index_col=0)\n",
    "\n",
    "# Display the first 5 rows of the chat data\n",
    "first_five_rows = chat_data.head(5)\n",
    "\n",
    "# Print the first five rows to view the data\n",
    "first_five_rows"
   ]
  },
  {
   "cell_type": "code",
   "execution_count": 4,
   "metadata": {},
   "outputs": [],
   "source": [
    "# Let's copy our data into a new DataFrame so we don't modify the original data\n",
    "df = chat_data.copy()\n"
   ]
  },
  {
   "cell_type": "markdown",
   "metadata": {},
   "source": [
    "As we have successfully imported the data into a data frame, we can now proceed with the next step of the analysis. We will start by cleaning the data and preparing it for analysis."
   ]
  },
  {
   "cell_type": "markdown",
   "metadata": {},
   "source": [
    "Let's first merge the 3 message columns into a single column. "
   ]
  },
  {
   "cell_type": "markdown",
   "metadata": {},
   "source": [
    "As we have 2 columns, while  merging them, we are getting NaN values in the merged column. So, we will replace the NaN values with empty strings."
   ]
  },
  {
   "cell_type": "code",
   "execution_count": 5,
   "metadata": {},
   "outputs": [],
   "source": [
    "# Replace NaN values with empty strings in columns 'sender message', 'Column3', and 'Column4'\n",
    "df[\"sender message\"].fillna(\"\", inplace=True)\n",
    "df[\"Column3\"].fillna(\"\", inplace=True)\n",
    "df[\"Column4\"].fillna(\"\", inplace=True)\n",
    "\n",
    "# Merge sender message, Column3, and Column4 columns into a single column named Message\n",
    "df[\"Message\"] = (\n",
    "    df[\"sender message\"]\n",
    "    + \" \"\n",
    "    + df[\"Column3\"].astype(str)\n",
    "    + \" \"\n",
    "    + df[\"Column4\"].astype(str)\n",
    ")\n",
    "\n",
    "# Drop the sender message, Column3, and Column4 columns\n",
    "df.drop(columns=[\"sender message\", \"Column3\", \"Column4\"], inplace=True)\n"
   ]
  },
  {
   "cell_type": "code",
   "execution_count": 6,
   "metadata": {},
   "outputs": [
    {
     "data": {
      "text/html": [
       "<div>\n",
       "<style scoped>\n",
       "    .dataframe tbody tr th:only-of-type {\n",
       "        vertical-align: middle;\n",
       "    }\n",
       "\n",
       "    .dataframe tbody tr th {\n",
       "        vertical-align: top;\n",
       "    }\n",
       "\n",
       "    .dataframe thead th {\n",
       "        text-align: right;\n",
       "    }\n",
       "</style>\n",
       "<table border=\"1\" class=\"dataframe\">\n",
       "  <thead>\n",
       "    <tr style=\"text-align: right;\">\n",
       "      <th></th>\n",
       "      <th>time</th>\n",
       "      <th>sender name</th>\n",
       "      <th>Message</th>\n",
       "    </tr>\n",
       "    <tr>\n",
       "      <th>date</th>\n",
       "      <th></th>\n",
       "      <th></th>\n",
       "      <th></th>\n",
       "    </tr>\n",
       "  </thead>\n",
       "  <tbody>\n",
       "    <tr>\n",
       "      <th>2022-09-29</th>\n",
       "      <td>7:04:00 PM</td>\n",
       "      <td>Manish Accenture created group Accenture 22 J...</td>\n",
       "      <td></td>\n",
       "    </tr>\n",
       "    <tr>\n",
       "      <th>2022-09-29</th>\n",
       "      <td>7:08:00 PM</td>\n",
       "      <td>You joined using this group's invite link</td>\n",
       "      <td></td>\n",
       "    </tr>\n",
       "    <tr>\n",
       "      <th>2022-09-29</th>\n",
       "      <td>7:08:00 PM</td>\n",
       "      <td>Manish Accenture</td>\n",
       "      <td>Aapki 19sept ki joining the ?</td>\n",
       "    </tr>\n",
       "    <tr>\n",
       "      <th>2022-09-29</th>\n",
       "      <td>7:08:00 PM</td>\n",
       "      <td>Harshit Accenture joined using this group's i...</td>\n",
       "      <td></td>\n",
       "    </tr>\n",
       "    <tr>\n",
       "      <th>2022-09-29</th>\n",
       "      <td>7:09:00 PM</td>\n",
       "      <td>Chiraggg</td>\n",
       "      <td>Kiski?</td>\n",
       "    </tr>\n",
       "  </tbody>\n",
       "</table>\n",
       "</div>"
      ],
      "text/plain": [
       "                  time                                        sender name  \\\n",
       "date                                                                        \n",
       "2022-09-29  7:04:00 PM   Manish Accenture created group Accenture 22 J...   \n",
       "2022-09-29  7:08:00 PM          You joined using this group's invite link   \n",
       "2022-09-29  7:08:00 PM                                   Manish Accenture   \n",
       "2022-09-29  7:08:00 PM   Harshit Accenture joined using this group's i...   \n",
       "2022-09-29  7:09:00 PM                                           Chiraggg   \n",
       "\n",
       "                                     Message  \n",
       "date                                          \n",
       "2022-09-29                                    \n",
       "2022-09-29                                    \n",
       "2022-09-29   Aapki 19sept ki joining the ?    \n",
       "2022-09-29                                    \n",
       "2022-09-29                          Kiski?    "
      ]
     },
     "execution_count": 6,
     "metadata": {},
     "output_type": "execute_result"
    }
   ],
   "source": [
    "# Display the first 5 rows of the chat data\n",
    "df.head(5)"
   ]
  },
  {
   "cell_type": "markdown",
   "metadata": {},
   "source": [
    "#### Data Cleaning"
   ]
  },
  {
   "cell_type": "markdown",
   "metadata": {},
   "source": [
    "As we have successfully merged the 3 message columns into a single column, we can now proceed with the next step of the analysis. We will start by cleaning the data and preparing it for analysis.\n"
   ]
  },
  {
   "cell_type": "code",
   "execution_count": 7,
   "metadata": {},
   "outputs": [],
   "source": [
    "# Remove rows that contain only missing values\n",
    "df.dropna(how=\"all\", inplace=True)"
   ]
  },
  {
   "cell_type": "markdown",
   "metadata": {},
   "source": [
    "#### EDA"
   ]
  },
  {
   "cell_type": "code",
   "execution_count": 8,
   "metadata": {},
   "outputs": [
    {
     "name": "stdout",
     "output_type": "stream",
     "text": [
      "Total messages sent: 2242\n"
     ]
    }
   ],
   "source": [
    "# Let's see total messages sent\n",
    "total_messages = df.shape[0]\n",
    "print(\"Total messages sent:\", total_messages)"
   ]
  },
  {
   "cell_type": "code",
   "execution_count": 9,
   "metadata": {},
   "outputs": [
    {
     "data": {
      "text/plain": [
       "88"
      ]
     },
     "execution_count": 9,
     "metadata": {},
     "output_type": "execute_result"
    }
   ],
   "source": [
    "# Count the number of media messages by checking if 'Message' contains '<Media omitted>'\n",
    "num_media_messages = df[df[\"Message\"].str.contains\n",
    "                        (\"<Media omitted>\")].shape[0]\n",
    "num_media_messages\n"
   ]
  },
  {
   "cell_type": "code",
   "execution_count": null,
   "metadata": {},
   "outputs": [],
   "source": []
  }
 ],
 "metadata": {
  "kernelspec": {
   "display_name": "Python 3",
   "language": "python",
   "name": "python3"
  },
  "language_info": {
   "codemirror_mode": {
    "name": "ipython",
    "version": 3
   },
   "file_extension": ".py",
   "mimetype": "text/x-python",
   "name": "python",
   "nbconvert_exporter": "python",
   "pygments_lexer": "ipython3",
   "version": "3.11.1"
  },
  "orig_nbformat": 4
 },
 "nbformat": 4,
 "nbformat_minor": 2
}
