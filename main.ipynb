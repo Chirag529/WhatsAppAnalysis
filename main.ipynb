{
 "cells": [
  {
   "cell_type": "markdown",
   "metadata": {},
   "source": [
    "\n",
    "# WhatsApp Chat Sentiment Analysis\n",
    "\n",
    "## Introduction\n",
    "\n",
    "In the age of instant messaging, platforms like WhatsApp have become an integral part of our daily communication. WhatsApp groups, in particular, facilitate conversations among friends, family, and colleagues, generating a rich source of text data. This project explores the world of sentiment analysis applied to WhatsApp chat data.\n",
    "\n",
    "**Sentiment analysis** is a natural language processing (NLP) technique used to determine the emotional tone, attitude, or polarity of a piece of text. It involves classifying text as positive, negative, or neutral based on the sentiments expressed within it.\n",
    "\n",
    "In this project, we delve into the fascinating realm of sentiment analysis by focusing on WhatsApp chat conversations. By analyzing these chat messages, we aim to uncover valuable insights, such as:\n",
    "\n",
    "-   Understanding the overall sentiment trends within a WhatsApp group or conversation.\n",
    "-   Identifying key topics or events that triggered specific sentiment shifts.\n",
    "-   Visualizing sentiment patterns over time.\n",
    "-   Gaining a deeper understanding of the emotions and reactions of chat participants.\n",
    "\n",
    "To achieve these objectives, we will utilize a combination of Python, various libraries for data manipulation, and NLP techniques. We will also apply data visualization to present our findings in a clear and informative manner.\n",
    "\n",
    "### Project Goals\n",
    "\n",
    "1.  **Data Collection**: Extract and preprocess WhatsApp chat data, ensuring it's in a suitable format for analysis.\n",
    "    \n",
    "2.  **Sentiment Analysis**: Apply sentiment analysis techniques to determine the sentiment (positive, negative, or neutral) of individual messages.\n",
    "    \n",
    "3.  **Visualization**: Create insightful visualizations to represent sentiment trends, identify patterns, and highlight significant events within the chat.\n",
    "    \n",
    "4.  **Insight Generation**: Draw meaningful insights from the sentiment analysis results and provide actionable recommendations or conclusions based on these insights.\n",
    "    \n",
    "5.  **Pythonic Code**: Throughout the project, we will adhere to Python best practices and coding guidelines (PEP-8) to ensure clean, optimized, and maintainable code."
   ]
  },
  {
   "cell_type": "markdown",
   "metadata": {},
   "source": [
    "\n",
    "**Before starting with the task of WhatsApp Chat analysis with Python**, you need to extract your WhatsApp data from your smartphone, which is a straightforward process. Follow these steps to export your WhatsApp chats:\n",
    "\n",
    "1.  If you are using an iPhone:\n",
    "    \n",
    "    -   Open the chat with the person or group you want to export.\n",
    "    -   Tap on the Contact Name or the Group Name at the top of the chat.\n",
    "    -   Scroll to the bottom and tap on \"Export Chat.\"\n",
    "2.  If you are using an Android smartphone:\n",
    "    \n",
    "    -   Open the chat with the person or group you want to export.\n",
    "    -   Tap on the three dots (menu) located at the top right corner of the chat.\n",
    "    -   Select \"More\" or \"Options.\"\n",
    "    -   Tap on \"Export Chat.\"\n",
    "3.  Regardless of your smartphone type, you'll be prompted to choose whether you want to export the chat with or without media (images, videos, etc.). For simplicity in your analysis, you can choose \"without media.\"\n",
    "    \n",
    "4.  After making your selection, you'll have the option to email this chat to yourself. Enter your email address and send the chat.\n",
    "    \n",
    "5.  Access your email from your computer, open the email containing the exported chat, and download it to your system.\n",
    "    \n",
    "\n",
    "Now that you have successfully exported your WhatsApp chat, you can proceed with WhatsApp chat analysis using Python. In the following sections, we will guide you through the steps of analyzing WhatsApp chat data with Python."
   ]
  },
  {
   "cell_type": "markdown",
   "metadata": {},
   "source": [
    "Let's Start"
   ]
  },
  {
   "cell_type": "markdown",
   "metadata": {},
   "source": [
    "#### Import all necessary libraries"
   ]
  },
  {
   "cell_type": "code",
   "execution_count": 79,
   "metadata": {},
   "outputs": [],
   "source": [
    "# Data manipulation\n",
    "import pandas as pd\n",
    "# Data visualization\n",
    "import matplotlib.pyplot as plt\n",
    "# Data visualization (based on matplotlib)\n",
    "import seaborn as sns\n",
    "# For regular expressions\n",
    "import regex\n",
    "# Word cloud\n",
    "from wordcloud import WordCloud, STOPWORDS, ImageColorGenerator\n",
    "# For emoji support\n",
    "import emoji\n",
    "# For counting most common words in a list of strings\n",
    "from collections import Counter\n",
    "\n",
    "# Show every column in dataframe\n",
    "pd.set_option('display.max_columns', None)"
   ]
  },
  {
   "cell_type": "code",
   "execution_count": 80,
   "metadata": {},
   "outputs": [
    {
     "data": {
      "text/html": [
       "<div>\n",
       "<style scoped>\n",
       "    .dataframe tbody tr th:only-of-type {\n",
       "        vertical-align: middle;\n",
       "    }\n",
       "\n",
       "    .dataframe tbody tr th {\n",
       "        vertical-align: top;\n",
       "    }\n",
       "\n",
       "    .dataframe thead th {\n",
       "        text-align: right;\n",
       "    }\n",
       "</style>\n",
       "<table border=\"1\" class=\"dataframe\">\n",
       "  <thead>\n",
       "    <tr style=\"text-align: right;\">\n",
       "      <th></th>\n",
       "      <th>date</th>\n",
       "      <th>time</th>\n",
       "      <th>sender name</th>\n",
       "      <th>sender message</th>\n",
       "      <th>Column3</th>\n",
       "      <th>Column4</th>\n",
       "    </tr>\n",
       "  </thead>\n",
       "  <tbody>\n",
       "    <tr>\n",
       "      <th>0</th>\n",
       "      <td>2022-09-29</td>\n",
       "      <td>7:04:00 PM</td>\n",
       "      <td>Manish Accenture created group Accenture 22 J...</td>\n",
       "      <td>NaN</td>\n",
       "      <td>NaN</td>\n",
       "      <td>NaN</td>\n",
       "    </tr>\n",
       "    <tr>\n",
       "      <th>1</th>\n",
       "      <td>2022-09-29</td>\n",
       "      <td>7:08:00 PM</td>\n",
       "      <td>You joined using this group's invite link</td>\n",
       "      <td>NaN</td>\n",
       "      <td>NaN</td>\n",
       "      <td>NaN</td>\n",
       "    </tr>\n",
       "    <tr>\n",
       "      <th>2</th>\n",
       "      <td>2022-09-29</td>\n",
       "      <td>7:08:00 PM</td>\n",
       "      <td>Manish Accenture</td>\n",
       "      <td>Aapki 19sept ki joining the ?</td>\n",
       "      <td>NaN</td>\n",
       "      <td>NaN</td>\n",
       "    </tr>\n",
       "    <tr>\n",
       "      <th>3</th>\n",
       "      <td>2022-09-29</td>\n",
       "      <td>7:08:00 PM</td>\n",
       "      <td>Harshit Accenture joined using this group's i...</td>\n",
       "      <td>NaN</td>\n",
       "      <td>NaN</td>\n",
       "      <td>NaN</td>\n",
       "    </tr>\n",
       "    <tr>\n",
       "      <th>4</th>\n",
       "      <td>2022-09-29</td>\n",
       "      <td>7:09:00 PM</td>\n",
       "      <td>Chiraggg</td>\n",
       "      <td>Kiski?</td>\n",
       "      <td>NaN</td>\n",
       "      <td>NaN</td>\n",
       "    </tr>\n",
       "  </tbody>\n",
       "</table>\n",
       "</div>"
      ],
      "text/plain": [
       "        date        time                                        sender name  \\\n",
       "0 2022-09-29  7:04:00 PM   Manish Accenture created group Accenture 22 J...   \n",
       "1 2022-09-29  7:08:00 PM          You joined using this group's invite link   \n",
       "2 2022-09-29  7:08:00 PM                                   Manish Accenture   \n",
       "3 2022-09-29  7:08:00 PM   Harshit Accenture joined using this group's i...   \n",
       "4 2022-09-29  7:09:00 PM                                           Chiraggg   \n",
       "\n",
       "                   sender message Column3 Column4  \n",
       "0                             NaN     NaN     NaN  \n",
       "1                             NaN     NaN     NaN  \n",
       "2   Aapki 19sept ki joining the ?     NaN     NaN  \n",
       "3                             NaN     NaN     NaN  \n",
       "4                          Kiski?     NaN     NaN  "
      ]
     },
     "execution_count": 80,
     "metadata": {},
     "output_type": "execute_result"
    }
   ],
   "source": [
    "# Define the file path to your WhatsApp chat Excel file\n",
    "chat_excel_file_path = \"../Sentiment_Analysis/dataset/1_Dec_Chat.xlsx\"\n",
    "\n",
    "# Read the WhatsApp chat data from the Excel file into a DataFrame\n",
    "chat_data = pd.read_excel(chat_excel_file_path)\n",
    "\n",
    "# Display the first 5 rows of the chat data\n",
    "first_five_rows = chat_data.head(5)\n",
    "\n",
    "# Print the first five rows to view the data\n",
    "first_five_rows"
   ]
  },
  {
   "cell_type": "code",
   "execution_count": 81,
   "metadata": {},
   "outputs": [],
   "source": [
    "# Let's copy our data into a new DataFrame so we don't modify the original data\n",
    "df = chat_data.copy()"
   ]
  },
  {
   "cell_type": "markdown",
   "metadata": {},
   "source": [
    "As we have successfully imported the data into a data frame, we can now proceed with the next step of the analysis. We will start by cleaning the data and preparing it for analysis."
   ]
  },
  {
   "cell_type": "markdown",
   "metadata": {},
   "source": [
    "Let's first merge the 3 message columns into a single column. "
   ]
  },
  {
   "cell_type": "markdown",
   "metadata": {},
   "source": [
    "As we have 2 columns, while  merging them, we are getting NaN values in the merged column. So, we will replace the NaN values with empty strings."
   ]
  },
  {
   "cell_type": "code",
   "execution_count": 82,
   "metadata": {},
   "outputs": [],
   "source": [
    "# Replace NaN values with empty strings in columns 'sender message', 'Column3', and 'Column4'\n",
    "df[\"sender message\"].fillna(\"\", inplace=True)\n",
    "df[\"Column3\"].fillna(\"\", inplace=True)\n",
    "df[\"Column4\"].fillna(\"\", inplace=True)\n",
    "\n",
    "# Merge sender message, Column3, and Column4 columns into a single column named Message\n",
    "df[\"Message\"] = (\n",
    "    df[\"sender message\"]\n",
    "    + \" \"\n",
    "    + df[\"Column3\"].astype(str)\n",
    "    + \" \"\n",
    "    + df[\"Column4\"].astype(str)\n",
    ")\n",
    "\n",
    "# Drop the sender message, Column3, and Column4 columns\n",
    "df.drop(columns=[\"sender message\", \"Column3\", \"Column4\"], inplace=True)"
   ]
  },
  {
   "cell_type": "code",
   "execution_count": 85,
   "metadata": {},
   "outputs": [
    {
     "data": {
      "text/html": [
       "<div>\n",
       "<style scoped>\n",
       "    .dataframe tbody tr th:only-of-type {\n",
       "        vertical-align: middle;\n",
       "    }\n",
       "\n",
       "    .dataframe tbody tr th {\n",
       "        vertical-align: top;\n",
       "    }\n",
       "\n",
       "    .dataframe thead th {\n",
       "        text-align: right;\n",
       "    }\n",
       "</style>\n",
       "<table border=\"1\" class=\"dataframe\">\n",
       "  <thead>\n",
       "    <tr style=\"text-align: right;\">\n",
       "      <th></th>\n",
       "      <th>date</th>\n",
       "      <th>time</th>\n",
       "      <th>sender name</th>\n",
       "      <th>Message</th>\n",
       "    </tr>\n",
       "  </thead>\n",
       "  <tbody>\n",
       "    <tr>\n",
       "      <th>0</th>\n",
       "      <td>2022-09-29</td>\n",
       "      <td>7:04:00 PM</td>\n",
       "      <td>Manish Accenture created group Accenture 22 J...</td>\n",
       "      <td></td>\n",
       "    </tr>\n",
       "    <tr>\n",
       "      <th>1</th>\n",
       "      <td>2022-09-29</td>\n",
       "      <td>7:08:00 PM</td>\n",
       "      <td>You joined using this group's invite link</td>\n",
       "      <td></td>\n",
       "    </tr>\n",
       "    <tr>\n",
       "      <th>2</th>\n",
       "      <td>2022-09-29</td>\n",
       "      <td>7:08:00 PM</td>\n",
       "      <td>Manish Accenture</td>\n",
       "      <td>Aapki 19sept ki joining the ?</td>\n",
       "    </tr>\n",
       "    <tr>\n",
       "      <th>3</th>\n",
       "      <td>2022-09-29</td>\n",
       "      <td>7:08:00 PM</td>\n",
       "      <td>Harshit Accenture joined using this group's i...</td>\n",
       "      <td></td>\n",
       "    </tr>\n",
       "    <tr>\n",
       "      <th>4</th>\n",
       "      <td>2022-09-29</td>\n",
       "      <td>7:09:00 PM</td>\n",
       "      <td>Chiraggg</td>\n",
       "      <td>Kiski?</td>\n",
       "    </tr>\n",
       "  </tbody>\n",
       "</table>\n",
       "</div>"
      ],
      "text/plain": [
       "        date        time                                        sender name  \\\n",
       "0 2022-09-29  7:04:00 PM   Manish Accenture created group Accenture 22 J...   \n",
       "1 2022-09-29  7:08:00 PM          You joined using this group's invite link   \n",
       "2 2022-09-29  7:08:00 PM                                   Manish Accenture   \n",
       "3 2022-09-29  7:08:00 PM   Harshit Accenture joined using this group's i...   \n",
       "4 2022-09-29  7:09:00 PM                                           Chiraggg   \n",
       "\n",
       "                            Message  \n",
       "0                                    \n",
       "1                                    \n",
       "2   Aapki 19sept ki joining the ?    \n",
       "3                                    \n",
       "4                          Kiski?    "
      ]
     },
     "execution_count": 85,
     "metadata": {},
     "output_type": "execute_result"
    }
   ],
   "source": [
    "# Display the first 5 rows of the chat data\n",
    "df.head(5)\n"
   ]
  },
  {
   "cell_type": "code",
   "execution_count": null,
   "metadata": {},
   "outputs": [],
   "source": []
  }
 ],
 "metadata": {
  "kernelspec": {
   "display_name": "Python 3",
   "language": "python",
   "name": "python3"
  },
  "language_info": {
   "codemirror_mode": {
    "name": "ipython",
    "version": 3
   },
   "file_extension": ".py",
   "mimetype": "text/x-python",
   "name": "python",
   "nbconvert_exporter": "python",
   "pygments_lexer": "ipython3",
   "version": "3.11.1"
  },
  "orig_nbformat": 4
 },
 "nbformat": 4,
 "nbformat_minor": 2
}
